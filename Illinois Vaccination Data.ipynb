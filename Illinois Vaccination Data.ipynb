{
 "cells": [
  {
   "cell_type": "code",
   "execution_count": 212,
   "metadata": {},
   "outputs": [],
   "source": [
    "import pandas as pd\n",
    "import numpy as np\n",
    "from datetime import datetime\n",
    "from datetime import timedelta\n",
    "import matplotlib.pyplot as plt"
   ]
  },
  {
   "cell_type": "code",
   "execution_count": 213,
   "metadata": {},
   "outputs": [],
   "source": [
    "data = pd.read_csv('IDPHExport.csv')"
   ]
  },
  {
   "cell_type": "code",
   "execution_count": 214,
   "metadata": {},
   "outputs": [
    {
     "data": {
      "text/html": [
       "<div>\n",
       "<style scoped>\n",
       "    .dataframe tbody tr th:only-of-type {\n",
       "        vertical-align: middle;\n",
       "    }\n",
       "\n",
       "    .dataframe tbody tr th {\n",
       "        vertical-align: top;\n",
       "    }\n",
       "\n",
       "    .dataframe thead th {\n",
       "        text-align: right;\n",
       "    }\n",
       "</style>\n",
       "<table border=\"1\" class=\"dataframe\">\n",
       "  <thead>\n",
       "    <tr style=\"text-align: right;\">\n",
       "      <th></th>\n",
       "      <th>CountyName</th>\n",
       "      <th>AdministeredCount</th>\n",
       "      <th>AdministeredCountChange</th>\n",
       "      <th>AdministeredCountRollAvg</th>\n",
       "      <th>PersonsFullyVaccinated</th>\n",
       "      <th>Report_Date</th>\n",
       "      <th>PctVaccinatedPopulation</th>\n",
       "    </tr>\n",
       "  </thead>\n",
       "  <tbody>\n",
       "    <tr>\n",
       "      <th>0</th>\n",
       "      <td>Illinois</td>\n",
       "      <td>1</td>\n",
       "      <td>1</td>\n",
       "      <td>0</td>\n",
       "      <td>0</td>\n",
       "      <td>12/15/20 0:00</td>\n",
       "      <td>0.0</td>\n",
       "    </tr>\n",
       "    <tr>\n",
       "      <th>1</th>\n",
       "      <td>Illinois</td>\n",
       "      <td>1995</td>\n",
       "      <td>1994</td>\n",
       "      <td>285</td>\n",
       "      <td>0</td>\n",
       "      <td>12/16/20 0:00</td>\n",
       "      <td>0.0</td>\n",
       "    </tr>\n",
       "    <tr>\n",
       "      <th>2</th>\n",
       "      <td>Illinois</td>\n",
       "      <td>13035</td>\n",
       "      <td>11040</td>\n",
       "      <td>1862</td>\n",
       "      <td>0</td>\n",
       "      <td>12/17/20 0:00</td>\n",
       "      <td>0.0</td>\n",
       "    </tr>\n",
       "    <tr>\n",
       "      <th>3</th>\n",
       "      <td>Illinois</td>\n",
       "      <td>34047</td>\n",
       "      <td>21012</td>\n",
       "      <td>4864</td>\n",
       "      <td>0</td>\n",
       "      <td>12/18/20 0:00</td>\n",
       "      <td>0.0</td>\n",
       "    </tr>\n",
       "    <tr>\n",
       "      <th>4</th>\n",
       "      <td>Illinois</td>\n",
       "      <td>47297</td>\n",
       "      <td>13250</td>\n",
       "      <td>6757</td>\n",
       "      <td>0</td>\n",
       "      <td>12/19/20 0:00</td>\n",
       "      <td>0.0</td>\n",
       "    </tr>\n",
       "  </tbody>\n",
       "</table>\n",
       "</div>"
      ],
      "text/plain": [
       "  CountyName  AdministeredCount  AdministeredCountChange  \\\n",
       "0   Illinois                  1                        1   \n",
       "1   Illinois               1995                     1994   \n",
       "2   Illinois              13035                    11040   \n",
       "3   Illinois              34047                    21012   \n",
       "4   Illinois              47297                    13250   \n",
       "\n",
       "   AdministeredCountRollAvg  PersonsFullyVaccinated    Report_Date  \\\n",
       "0                         0                       0  12/15/20 0:00   \n",
       "1                       285                       0  12/16/20 0:00   \n",
       "2                      1862                       0  12/17/20 0:00   \n",
       "3                      4864                       0  12/18/20 0:00   \n",
       "4                      6757                       0  12/19/20 0:00   \n",
       "\n",
       "   PctVaccinatedPopulation  \n",
       "0                      0.0  \n",
       "1                      0.0  \n",
       "2                      0.0  \n",
       "3                      0.0  \n",
       "4                      0.0  "
      ]
     },
     "execution_count": 214,
     "metadata": {},
     "output_type": "execute_result"
    }
   ],
   "source": [
    "data.head()"
   ]
  },
  {
   "cell_type": "code",
   "execution_count": 215,
   "metadata": {},
   "outputs": [
    {
     "data": {
      "text/plain": [
       "CountyName                   object\n",
       "AdministeredCount             int64\n",
       "AdministeredCountChange       int64\n",
       "AdministeredCountRollAvg      int64\n",
       "PersonsFullyVaccinated        int64\n",
       "Report_Date                  object\n",
       "PctVaccinatedPopulation     float64\n",
       "dtype: object"
      ]
     },
     "execution_count": 215,
     "metadata": {},
     "output_type": "execute_result"
    }
   ],
   "source": [
    "data.dtypes"
   ]
  },
  {
   "cell_type": "code",
   "execution_count": 216,
   "metadata": {},
   "outputs": [],
   "source": [
    "data[\"Report_Date\"] = pd.to_datetime(data[\"Report_Date\"])"
   ]
  },
  {
   "cell_type": "code",
   "execution_count": 217,
   "metadata": {},
   "outputs": [],
   "source": [
    "data = data[['AdministeredCount', 'AdministeredCountChange','PersonsFullyVaccinated', 'Report_Date']]\n",
    "\n"
   ]
  },
  {
   "cell_type": "code",
   "execution_count": 218,
   "metadata": {
    "scrolled": true
   },
   "outputs": [
    {
     "data": {
      "text/plain": [
       "Index(['AdministeredCount', 'AdministeredCountChange',\n",
       "       'PersonsFullyVaccinated', 'Report_Date'],\n",
       "      dtype='object')"
      ]
     },
     "execution_count": 218,
     "metadata": {},
     "output_type": "execute_result"
    }
   ],
   "source": [
    "data.columns"
   ]
  },
  {
   "cell_type": "code",
   "execution_count": 219,
   "metadata": {},
   "outputs": [],
   "source": [
    "data = data.rename(columns={'AdministeredCount':'total doses to date',\n",
    "                     'AdministeredCountChange':'daily new doses',\n",
    "                     'PersonsFullyVaccinated':'total people with two doses', \n",
    "                     'Report_Date': \"date\"})"
   ]
  },
  {
   "cell_type": "code",
   "execution_count": 220,
   "metadata": {},
   "outputs": [
    {
     "data": {
      "text/html": [
       "<div>\n",
       "<style scoped>\n",
       "    .dataframe tbody tr th:only-of-type {\n",
       "        vertical-align: middle;\n",
       "    }\n",
       "\n",
       "    .dataframe tbody tr th {\n",
       "        vertical-align: top;\n",
       "    }\n",
       "\n",
       "    .dataframe thead th {\n",
       "        text-align: right;\n",
       "    }\n",
       "</style>\n",
       "<table border=\"1\" class=\"dataframe\">\n",
       "  <thead>\n",
       "    <tr style=\"text-align: right;\">\n",
       "      <th></th>\n",
       "      <th>total doses to date</th>\n",
       "      <th>daily new doses</th>\n",
       "      <th>total people with two doses</th>\n",
       "      <th>date</th>\n",
       "    </tr>\n",
       "  </thead>\n",
       "  <tbody>\n",
       "    <tr>\n",
       "      <th>0</th>\n",
       "      <td>1</td>\n",
       "      <td>1</td>\n",
       "      <td>0</td>\n",
       "      <td>2020-12-15</td>\n",
       "    </tr>\n",
       "    <tr>\n",
       "      <th>1</th>\n",
       "      <td>1995</td>\n",
       "      <td>1994</td>\n",
       "      <td>0</td>\n",
       "      <td>2020-12-16</td>\n",
       "    </tr>\n",
       "    <tr>\n",
       "      <th>2</th>\n",
       "      <td>13035</td>\n",
       "      <td>11040</td>\n",
       "      <td>0</td>\n",
       "      <td>2020-12-17</td>\n",
       "    </tr>\n",
       "    <tr>\n",
       "      <th>3</th>\n",
       "      <td>34047</td>\n",
       "      <td>21012</td>\n",
       "      <td>0</td>\n",
       "      <td>2020-12-18</td>\n",
       "    </tr>\n",
       "    <tr>\n",
       "      <th>4</th>\n",
       "      <td>47297</td>\n",
       "      <td>13250</td>\n",
       "      <td>0</td>\n",
       "      <td>2020-12-19</td>\n",
       "    </tr>\n",
       "  </tbody>\n",
       "</table>\n",
       "</div>"
      ],
      "text/plain": [
       "   total doses to date  daily new doses  total people with two doses  \\\n",
       "0                    1                1                            0   \n",
       "1                 1995             1994                            0   \n",
       "2                13035            11040                            0   \n",
       "3                34047            21012                            0   \n",
       "4                47297            13250                            0   \n",
       "\n",
       "        date  \n",
       "0 2020-12-15  \n",
       "1 2020-12-16  \n",
       "2 2020-12-17  \n",
       "3 2020-12-18  \n",
       "4 2020-12-19  "
      ]
     },
     "execution_count": 220,
     "metadata": {},
     "output_type": "execute_result"
    }
   ],
   "source": [
    "data.head()"
   ]
  },
  {
   "cell_type": "code",
   "execution_count": 221,
   "metadata": {},
   "outputs": [],
   "source": [
    "for index, row in data.iterrows():\n",
    "    if index == 0:\n",
    "        data.loc[index, \"new second doses\"] = 0\n",
    "    else:\n",
    "        previous = index - 1\n",
    "        data.loc[index, \"new second doses\"] = data.loc[index, \"total people with two doses\"] - data.loc[previous, \"total people with two doses\"]\n",
    "    \n",
    "    data.loc[index, \"new first doses\"] = data.loc[index, \"daily new doses\"] - data.loc[index, \"new second doses\"]\n",
    "    "
   ]
  },
  {
   "cell_type": "code",
   "execution_count": 222,
   "metadata": {},
   "outputs": [],
   "source": [
    "data[\"new second doses\"] = data[\"new second doses\"].astype(\"int64\")\n",
    "data[\"new first doses\"] = data[\"new first doses\"].astype(\"int64\")"
   ]
  },
  {
   "cell_type": "code",
   "execution_count": 223,
   "metadata": {},
   "outputs": [],
   "source": [
    "data[\"first dose 7 day rolling average\"] = data.rolling(window=7, on=\"date\", min_periods=1)[\"new first doses\"].mean()\n",
    "data[\"second dose 7 day rolling average\"] = data.rolling(window=7, on=\"date\")[\"new second doses\"].mean()\n"
   ]
  },
  {
   "cell_type": "code",
   "execution_count": 224,
   "metadata": {},
   "outputs": [
    {
     "data": {
      "text/plain": [
       "Index(['total doses to date', 'daily new doses', 'total people with two doses',\n",
       "       'date', 'new second doses', 'new first doses',\n",
       "       'first dose 7 day rolling average',\n",
       "       'second dose 7 day rolling average'],\n",
       "      dtype='object')"
      ]
     },
     "execution_count": 224,
     "metadata": {},
     "output_type": "execute_result"
    }
   ],
   "source": [
    "data.columns"
   ]
  },
  {
   "cell_type": "code",
   "execution_count": 225,
   "metadata": {},
   "outputs": [
    {
     "data": {
      "text/plain": [
       "Timestamp('2020-12-15 00:00:00')"
      ]
     },
     "execution_count": 225,
     "metadata": {},
     "output_type": "execute_result"
    }
   ],
   "source": [
    "data['date'][0]"
   ]
  },
  {
   "cell_type": "code",
   "execution_count": 226,
   "metadata": {},
   "outputs": [],
   "source": [
    "xticks=[]"
   ]
  },
  {
   "cell_type": "code",
   "execution_count": 227,
   "metadata": {},
   "outputs": [],
   "source": [
    "date_list = data[\"date\"].tolist()"
   ]
  },
  {
   "cell_type": "code",
   "execution_count": 228,
   "metadata": {},
   "outputs": [],
   "source": [
    "x = date_list[0]"
   ]
  },
  {
   "cell_type": "code",
   "execution_count": 229,
   "metadata": {},
   "outputs": [],
   "source": [
    "while x in date_list:\n",
    "    xticks.append(x.strftime('%m/%d'))\n",
    "    x = x+timedelta(days=7)"
   ]
  },
  {
   "cell_type": "code",
   "execution_count": 230,
   "metadata": {},
   "outputs": [],
   "source": [
    "#data[['new first doses','new second doses']].plot(kind='bar', figsize = (10,5))"
   ]
  },
  {
   "cell_type": "code",
   "execution_count": 236,
   "metadata": {},
   "outputs": [],
   "source": [
    "bars1 = data[\"new first doses\"]\n",
    "bars2 = data[\"new second doses\"]\n",
    "\n",
    "r1 = np.arange(len(bars1))\n",
    "r2 = [x + barwidth for x in r1]\n",
    "\n",
    "r_2ndrolling = np.arange(22,len(bars1))\n",
    "data_2ndrolling = data[\"second dose 7 day rolling average\"].drop(np.arange(22))"
   ]
  },
  {
   "cell_type": "code",
   "execution_count": 232,
   "metadata": {},
   "outputs": [
    {
     "data": {
      "text/plain": [
       "22      398.571429\n",
       "23     2950.142857\n",
       "24     6040.428571\n",
       "25     7744.714286\n",
       "26     8744.857143\n",
       "27    10337.428571\n",
       "28    11813.285714\n",
       "29    12736.714286\n",
       "30    11574.142857\n",
       "31     8775.428571\n",
       "32     7245.000000\n",
       "33     6329.428571\n",
       "34     5145.857143\n",
       "35     4251.142857\n",
       "36     4142.428571\n",
       "37     3828.428571\n",
       "38     4319.714286\n",
       "39     4455.857143\n",
       "40     4638.571429\n",
       "41     5327.571429\n",
       "42     6739.000000\n",
       "43     8248.571429\n",
       "44     9428.857143\n",
       "45    10608.857143\n",
       "46    11325.428571\n",
       "47    11625.285714\n",
       "48    11655.714286\n",
       "49    12084.571429\n",
       "50    11165.000000\n",
       "51    11139.000000\n",
       "52    10939.285714\n",
       "53    11434.285714\n",
       "54    11400.714286\n",
       "55    12029.571429\n",
       "56    11832.142857\n",
       "57    12847.714286\n",
       "58    14611.142857\n",
       "59    16340.000000\n",
       "60    16980.571429\n",
       "Name: second dose 7 day rolling average, dtype: float64"
      ]
     },
     "execution_count": 232,
     "metadata": {},
     "output_type": "execute_result"
    }
   ],
   "source": [
    "data_2ndrolling"
   ]
  },
  {
   "cell_type": "code",
   "execution_count": 234,
   "metadata": {},
   "outputs": [
    {
     "data": {
      "text/html": [
       "<div>\n",
       "<style scoped>\n",
       "    .dataframe tbody tr th:only-of-type {\n",
       "        vertical-align: middle;\n",
       "    }\n",
       "\n",
       "    .dataframe tbody tr th {\n",
       "        vertical-align: top;\n",
       "    }\n",
       "\n",
       "    .dataframe thead th {\n",
       "        text-align: right;\n",
       "    }\n",
       "</style>\n",
       "<table border=\"1\" class=\"dataframe\">\n",
       "  <thead>\n",
       "    <tr style=\"text-align: right;\">\n",
       "      <th></th>\n",
       "      <th>total doses to date</th>\n",
       "      <th>daily new doses</th>\n",
       "      <th>total people with two doses</th>\n",
       "      <th>date</th>\n",
       "      <th>new second doses</th>\n",
       "      <th>new first doses</th>\n",
       "      <th>first dose 7 day rolling average</th>\n",
       "      <th>second dose 7 day rolling average</th>\n",
       "    </tr>\n",
       "  </thead>\n",
       "  <tbody>\n",
       "    <tr>\n",
       "      <th>6</th>\n",
       "      <td>67324</td>\n",
       "      <td>12509</td>\n",
       "      <td>0</td>\n",
       "      <td>2020-12-21</td>\n",
       "      <td>0</td>\n",
       "      <td>12509</td>\n",
       "      <td>9617.714286</td>\n",
       "      <td>0.0</td>\n",
       "    </tr>\n",
       "    <tr>\n",
       "      <th>7</th>\n",
       "      <td>76968</td>\n",
       "      <td>9644</td>\n",
       "      <td>0</td>\n",
       "      <td>2020-12-22</td>\n",
       "      <td>0</td>\n",
       "      <td>9644</td>\n",
       "      <td>10995.285714</td>\n",
       "      <td>0.0</td>\n",
       "    </tr>\n",
       "    <tr>\n",
       "      <th>8</th>\n",
       "      <td>87617</td>\n",
       "      <td>10649</td>\n",
       "      <td>0</td>\n",
       "      <td>2020-12-23</td>\n",
       "      <td>0</td>\n",
       "      <td>10649</td>\n",
       "      <td>12231.714286</td>\n",
       "      <td>0.0</td>\n",
       "    </tr>\n",
       "    <tr>\n",
       "      <th>9</th>\n",
       "      <td>93869</td>\n",
       "      <td>6252</td>\n",
       "      <td>0</td>\n",
       "      <td>2020-12-24</td>\n",
       "      <td>0</td>\n",
       "      <td>6252</td>\n",
       "      <td>11547.714286</td>\n",
       "      <td>0.0</td>\n",
       "    </tr>\n",
       "    <tr>\n",
       "      <th>10</th>\n",
       "      <td>95434</td>\n",
       "      <td>1565</td>\n",
       "      <td>0</td>\n",
       "      <td>2020-12-25</td>\n",
       "      <td>0</td>\n",
       "      <td>1565</td>\n",
       "      <td>8769.571429</td>\n",
       "      <td>0.0</td>\n",
       "    </tr>\n",
       "    <tr>\n",
       "      <th>11</th>\n",
       "      <td>96886</td>\n",
       "      <td>1452</td>\n",
       "      <td>0</td>\n",
       "      <td>2020-12-26</td>\n",
       "      <td>0</td>\n",
       "      <td>1452</td>\n",
       "      <td>7084.142857</td>\n",
       "      <td>0.0</td>\n",
       "    </tr>\n",
       "    <tr>\n",
       "      <th>12</th>\n",
       "      <td>98064</td>\n",
       "      <td>1178</td>\n",
       "      <td>0</td>\n",
       "      <td>2020-12-27</td>\n",
       "      <td>0</td>\n",
       "      <td>1178</td>\n",
       "      <td>6178.428571</td>\n",
       "      <td>0.0</td>\n",
       "    </tr>\n",
       "    <tr>\n",
       "      <th>13</th>\n",
       "      <td>103832</td>\n",
       "      <td>5768</td>\n",
       "      <td>0</td>\n",
       "      <td>2020-12-28</td>\n",
       "      <td>0</td>\n",
       "      <td>5768</td>\n",
       "      <td>5215.428571</td>\n",
       "      <td>0.0</td>\n",
       "    </tr>\n",
       "    <tr>\n",
       "      <th>14</th>\n",
       "      <td>122540</td>\n",
       "      <td>18708</td>\n",
       "      <td>0</td>\n",
       "      <td>2020-12-29</td>\n",
       "      <td>0</td>\n",
       "      <td>18708</td>\n",
       "      <td>6510.285714</td>\n",
       "      <td>0.0</td>\n",
       "    </tr>\n",
       "    <tr>\n",
       "      <th>15</th>\n",
       "      <td>143623</td>\n",
       "      <td>21083</td>\n",
       "      <td>0</td>\n",
       "      <td>2020-12-30</td>\n",
       "      <td>0</td>\n",
       "      <td>21083</td>\n",
       "      <td>8000.857143</td>\n",
       "      <td>0.0</td>\n",
       "    </tr>\n",
       "    <tr>\n",
       "      <th>16</th>\n",
       "      <td>158627</td>\n",
       "      <td>15004</td>\n",
       "      <td>0</td>\n",
       "      <td>2020-12-31</td>\n",
       "      <td>0</td>\n",
       "      <td>15004</td>\n",
       "      <td>9251.142857</td>\n",
       "      <td>0.0</td>\n",
       "    </tr>\n",
       "    <tr>\n",
       "      <th>17</th>\n",
       "      <td>164800</td>\n",
       "      <td>6173</td>\n",
       "      <td>0</td>\n",
       "      <td>2021-01-01</td>\n",
       "      <td>0</td>\n",
       "      <td>6173</td>\n",
       "      <td>9909.428571</td>\n",
       "      <td>0.0</td>\n",
       "    </tr>\n",
       "    <tr>\n",
       "      <th>18</th>\n",
       "      <td>168351</td>\n",
       "      <td>3551</td>\n",
       "      <td>0</td>\n",
       "      <td>2021-01-02</td>\n",
       "      <td>0</td>\n",
       "      <td>3551</td>\n",
       "      <td>10209.285714</td>\n",
       "      <td>0.0</td>\n",
       "    </tr>\n",
       "    <tr>\n",
       "      <th>19</th>\n",
       "      <td>171256</td>\n",
       "      <td>2905</td>\n",
       "      <td>0</td>\n",
       "      <td>2021-01-03</td>\n",
       "      <td>0</td>\n",
       "      <td>2905</td>\n",
       "      <td>10456.000000</td>\n",
       "      <td>0.0</td>\n",
       "    </tr>\n",
       "  </tbody>\n",
       "</table>\n",
       "</div>"
      ],
      "text/plain": [
       "    total doses to date  daily new doses  total people with two doses  \\\n",
       "6                 67324            12509                            0   \n",
       "7                 76968             9644                            0   \n",
       "8                 87617            10649                            0   \n",
       "9                 93869             6252                            0   \n",
       "10                95434             1565                            0   \n",
       "11                96886             1452                            0   \n",
       "12                98064             1178                            0   \n",
       "13               103832             5768                            0   \n",
       "14               122540            18708                            0   \n",
       "15               143623            21083                            0   \n",
       "16               158627            15004                            0   \n",
       "17               164800             6173                            0   \n",
       "18               168351             3551                            0   \n",
       "19               171256             2905                            0   \n",
       "\n",
       "         date  new second doses  new first doses  \\\n",
       "6  2020-12-21                 0            12509   \n",
       "7  2020-12-22                 0             9644   \n",
       "8  2020-12-23                 0            10649   \n",
       "9  2020-12-24                 0             6252   \n",
       "10 2020-12-25                 0             1565   \n",
       "11 2020-12-26                 0             1452   \n",
       "12 2020-12-27                 0             1178   \n",
       "13 2020-12-28                 0             5768   \n",
       "14 2020-12-29                 0            18708   \n",
       "15 2020-12-30                 0            21083   \n",
       "16 2020-12-31                 0            15004   \n",
       "17 2021-01-01                 0             6173   \n",
       "18 2021-01-02                 0             3551   \n",
       "19 2021-01-03                 0             2905   \n",
       "\n",
       "    first dose 7 day rolling average  second dose 7 day rolling average  \n",
       "6                        9617.714286                                0.0  \n",
       "7                       10995.285714                                0.0  \n",
       "8                       12231.714286                                0.0  \n",
       "9                       11547.714286                                0.0  \n",
       "10                       8769.571429                                0.0  \n",
       "11                       7084.142857                                0.0  \n",
       "12                       6178.428571                                0.0  \n",
       "13                       5215.428571                                0.0  \n",
       "14                       6510.285714                                0.0  \n",
       "15                       8000.857143                                0.0  \n",
       "16                       9251.142857                                0.0  \n",
       "17                       9909.428571                                0.0  \n",
       "18                      10209.285714                                0.0  \n",
       "19                      10456.000000                                0.0  "
      ]
     },
     "execution_count": 234,
     "metadata": {},
     "output_type": "execute_result"
    }
   ],
   "source": [
    "data.loc[data[\"second dose 7 day rolling average\"]==0,:]"
   ]
  },
  {
   "cell_type": "code",
   "execution_count": 250,
   "metadata": {},
   "outputs": [
    {
     "data": {
      "image/png": "[encoded data removed]",
      "text/plain": [
       "<Figure size 864x360 with 1 Axes>"
      ]
     },
     "metadata": {
      "needs_background": "light"
     },
     "output_type": "display_data"
    }
   ],
   "source": [
    "plt.figure(figsize=(12,5))\n",
    "\n",
    "plt.grid(True, color = \"#D3D3D3\", axis='y', linewidth = \"1\")\n",
    "plt.title(\"Illinois Covid Vaccines\")\n",
    "\n",
    "barwidth = .5\n",
    "\n",
    "plt.bar(r1, bars1, color='#5CB0FF', width=barwidth, label='daily first doses')\n",
    "plt.bar(r2, bars2, color='#1F93FF', width=barwidth, label='daily second doses')\n",
    "\n",
    "plt.plot(r1, data[\"first dose 7 day rolling average\"], linewidth=2, color='#F6AA1C', label = \"first dose 7 day rolling average\")\n",
    "plt.plot(r_2ndrolling, data_2ndrolling, linewidth=2, color='#F65F28', label = \"second dose 7 day rolling average\")\n",
    "\n",
    "plt.xticks([r*7 + (barwidth/2) for r in range(len(xticks))], xticks)\n",
    "plt.xlim(-.5,max(r1)+1)\n",
    "\n",
    "plt.legend()\n",
    "plt.show()"
   ]
  },
  {
   "cell_type": "code",
   "execution_count": null,
   "metadata": {},
   "outputs": [],
   "source": []
  }
 ],
 "metadata": {
  "kernelspec": {
   "display_name": "Python 3",
   "language": "python",
   "name": "python3"
  },
  "language_info": {
   "codemirror_mode": {
    "name": "ipython",
    "version": 3
   },
   "file_extension": ".py",
   "mimetype": "text/x-python",
   "name": "python",
   "nbconvert_exporter": "python",
   "pygments_lexer": "ipython3",
   "version": "3.8.5"
  }
 },
 "nbformat": 4,
 "nbformat_minor": 4
}
