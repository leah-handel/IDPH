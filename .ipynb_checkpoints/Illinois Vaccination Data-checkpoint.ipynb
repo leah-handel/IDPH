{
 "cells": [
  {
   "cell_type": "code",
   "execution_count": 1,
   "metadata": {},
   "outputs": [],
   "source": [
    "import pandas as pd\n",
    "import numpy as np\n",
    "from datetime import datetime\n",
    "from datetime import timedelta\n",
    "import matplotlib.pyplot as plt\n",
    "import math\n",
    "import csv"
   ]
  },
  {
   "cell_type": "code",
   "execution_count": 2,
   "metadata": {},
   "outputs": [],
   "source": [
    "#IDPH put a row of non-data at the very top of their csv, reading it in\n",
    "#without pandas to skip the first row before putting it in a dataframe\n",
    "\n",
    "with open('IDPHExport.csv', 'r') as csvfile:\n",
    "    csvreader = csv.reader(csvfile, delimiter=\",\")\n",
    "\n",
    "    metadata = next(csvreader)\n",
    "    header = next(csvreader)\n",
    "    data = pd.DataFrame(columns=header)\n",
    "    for row in csvreader:\n",
    "        to_append = pd.Series(row, index = data.columns)\n",
    "        data = data.append(to_append, ignore_index=True)"
   ]
  },
  {
   "cell_type": "code",
   "execution_count": 3,
   "metadata": {},
   "outputs": [
    {
     "data": {
      "text/plain": [
       "['Data is Provisional and subject to change. Data presented is reported as of 3/8/2021']"
      ]
     },
     "execution_count": 3,
     "metadata": {},
     "output_type": "execute_result"
    }
   ],
   "source": [
    "metadata"
   ]
  },
  {
   "cell_type": "code",
   "execution_count": 4,
   "metadata": {},
   "outputs": [],
   "source": [
    "data[\"Report_Date\"] = pd.to_datetime(data[\"Report_Date\"])\n",
    "data = data.astype({'AdministeredCount': 'int64', 'AdministeredCountChange': 'int64', 'PersonsFullyVaccinated': 'int64'})"
   ]
  },
  {
   "cell_type": "code",
   "execution_count": 5,
   "metadata": {},
   "outputs": [],
   "source": [
    "data = data[['AdministeredCount', 'AdministeredCountChange','PersonsFullyVaccinated', 'Report_Date']]\n",
    "\n"
   ]
  },
  {
   "cell_type": "code",
   "execution_count": 6,
   "metadata": {},
   "outputs": [],
   "source": [
    "data = data.rename(columns={'AdministeredCount':'total doses to date',\n",
    "                     'AdministeredCountChange':'daily new doses',\n",
    "                     'PersonsFullyVaccinated':'total people with two doses', \n",
    "                     'Report_Date': \"date\"})"
   ]
  },
  {
   "cell_type": "code",
   "execution_count": 7,
   "metadata": {},
   "outputs": [
    {
     "data": {
      "text/plain": [
       "total doses to date                     int64\n",
       "daily new doses                         int64\n",
       "total people with two doses             int64\n",
       "date                           datetime64[ns]\n",
       "dtype: object"
      ]
     },
     "execution_count": 7,
     "metadata": {},
     "output_type": "execute_result"
    }
   ],
   "source": [
    "data.dtypes"
   ]
  },
  {
   "cell_type": "code",
   "execution_count": 8,
   "metadata": {},
   "outputs": [],
   "source": [
    "# calculating new second doses from change in total people with two doses and new first doses\n",
    "# from total new doses and new second doses\n",
    "\n",
    "for index, row in data.iterrows():\n",
    "    if index == 0:\n",
    "        data.loc[index, \"new second doses\"] = 0\n",
    "    else:\n",
    "        previous = index - 1\n",
    "        data.loc[index, \"new second doses\"] = data.loc[index, \"total people with two doses\"] - data.loc[previous, \"total people with two doses\"]\n",
    "    \n",
    "    data.loc[index, \"new first doses\"] = data.loc[index, \"daily new doses\"] - data.loc[index, \"new second doses\"]\n",
    "    "
   ]
  },
  {
   "cell_type": "code",
   "execution_count": 9,
   "metadata": {},
   "outputs": [],
   "source": [
    "data[\"new second doses\"] = data[\"new second doses\"].astype(\"int64\")\n",
    "data[\"new first doses\"] = data[\"new first doses\"].astype(\"int64\")"
   ]
  },
  {
   "cell_type": "code",
   "execution_count": 10,
   "metadata": {},
   "outputs": [],
   "source": [
    "#rolling averages\n",
    "\n",
    "data[\"first dose 7 day rolling average\"] = data.rolling(window=7, on=\"date\", min_periods=1)[\"new first doses\"].mean()\n",
    "data[\"second dose 7 day rolling average\"] = data.rolling(window=7, on=\"date\")[\"new second doses\"].mean()\n"
   ]
  },
  {
   "cell_type": "code",
   "execution_count": 11,
   "metadata": {},
   "outputs": [],
   "source": [
    "#xticks = every 7 days starting at the first date\n",
    "xticks=[]\n",
    "date_list = data[\"date\"].tolist()\n",
    "x = date_list[0]\n",
    "\n",
    "while x in date_list:\n",
    "    xticks.append(x.strftime('%m/%d'))\n",
    "    x = x+timedelta(days=7)"
   ]
  },
  {
   "cell_type": "code",
   "execution_count": 12,
   "metadata": {},
   "outputs": [],
   "source": [
    "#while x in date_list:\n",
    "   # xticks.append(x.strftime('%m/%d'))\n",
    "   # x = x+timedelta(days=7)"
   ]
  },
  {
   "cell_type": "code",
   "execution_count": 13,
   "metadata": {},
   "outputs": [],
   "source": [
    "#yticks = every 10k, going one past the highest y value\n",
    "max_y = data[[\"new first doses\", \"new second doses\"]].max().max()\n",
    "max_ytick = int(math.ceil(max_y / 10000)) * 10000\n",
    "yticks = np.arange(10000, max_ytick+1, 10000)\n",
    "ytick_labels = [f\"{int(y/1000)}k\" for y in yticks]"
   ]
  },
  {
   "cell_type": "code",
   "execution_count": 14,
   "metadata": {},
   "outputs": [
    {
     "data": {
      "text/plain": [
       "['10k', '20k', '30k', '40k', '50k', '60k', '70k', '80k']"
      ]
     },
     "execution_count": 14,
     "metadata": {},
     "output_type": "execute_result"
    }
   ],
   "source": [
    "ytick_labels"
   ]
  },
  {
   "cell_type": "code",
   "execution_count": 15,
   "metadata": {},
   "outputs": [],
   "source": [
    "bars1 = data[\"new first doses\"]\n",
    "bars2 = data[\"new second doses\"]\n",
    "\n",
    "barwidth = .5\n",
    "\n",
    "r1 = np.arange(len(bars1))\n",
    "r2 = [x + barwidth for x in r1]\n",
    "#bars2 shifted over by the width of a bar"
   ]
  },
  {
   "cell_type": "code",
   "execution_count": 16,
   "metadata": {},
   "outputs": [],
   "source": [
    "# 2nd dose rolling average shifted over to display above the 2nd dose bars, not display until\n",
    "# it gets above zero\n",
    "\n",
    "r_2ndrolling = np.arange(22.5,len(bars1)+.5)\n",
    "data_2ndrolling = data[\"second dose 7 day rolling average\"].drop(np.arange(22))"
   ]
  },
  {
   "cell_type": "code",
   "execution_count": 19,
   "metadata": {},
   "outputs": [
    {
     "data": {
      "image/png": "[encoded data removed]",
      "text/plain": [
       "<Figure size 432x288 with 1 Axes>"
      ]
     },
     "metadata": {
      "needs_background": "light"
     },
     "output_type": "display_data"
    }
   ],
   "source": [
    "fig = plt.figure(figsize=(8,5))\n",
    "ax = fig.add_subplot(111)\n",
    "\n",
    "plt.grid(True, color = \"#D3D3D3\", axis='y', linewidth = \"1\", linestyle=':')\n",
    "plt.title(\"Illinois Vaccines Administered, 1st & 2nd Doses\")\n",
    "\n",
    "plt.bar(r1, bars1, color='#5CB0FF', width=barwidth, label='daily first doses')\n",
    "plt.bar(r2, bars2, color='#1F93FF', width=barwidth, label='daily second doses')\n",
    "\n",
    "plt.plot(r1, data[\"first dose 7 day rolling average\"], linewidth=2, color='#F6AA1C', label = \"first dose 7 day rolling average\")\n",
    "plt.plot(r_2ndrolling, data_2ndrolling, linewidth=2, color='#F65F28', label = \"second dose 7 day rolling average\")\n",
    "\n",
    "plt.xticks([r*7 + (barwidth/2) for r in range(len(xticks))], xticks)\n",
    "plt.yticks(yticks, ytick_labels)\n",
    "plt.xlim(-.5,max(r1)+1)\n",
    "\n",
    "plt.legend()\n",
    "plt.savefig(\"vaccines.png\")\n",
    "plt.show()"
   ]
  },
  {
   "cell_type": "code",
   "execution_count": 18,
   "metadata": {},
   "outputs": [
    {
     "data": {
      "text/html": [
       "<div>\n",
       "<style scoped>\n",
       "    .dataframe tbody tr th:only-of-type {\n",
       "        vertical-align: middle;\n",
       "    }\n",
       "\n",
       "    .dataframe tbody tr th {\n",
       "        vertical-align: top;\n",
       "    }\n",
       "\n",
       "    .dataframe thead th {\n",
       "        text-align: right;\n",
       "    }\n",
       "</style>\n",
       "<table border=\"1\" class=\"dataframe\">\n",
       "  <thead>\n",
       "    <tr style=\"text-align: right;\">\n",
       "      <th></th>\n",
       "      <th>total doses to date</th>\n",
       "      <th>daily new doses</th>\n",
       "      <th>total people with two doses</th>\n",
       "      <th>date</th>\n",
       "      <th>new second doses</th>\n",
       "      <th>new first doses</th>\n",
       "      <th>first dose 7 day rolling average</th>\n",
       "      <th>second dose 7 day rolling average</th>\n",
       "    </tr>\n",
       "  </thead>\n",
       "  <tbody>\n",
       "    <tr>\n",
       "      <th>0</th>\n",
       "      <td>1</td>\n",
       "      <td>1</td>\n",
       "      <td>0</td>\n",
       "      <td>2020-12-15</td>\n",
       "      <td>0</td>\n",
       "      <td>1</td>\n",
       "      <td>1.000000</td>\n",
       "      <td>NaN</td>\n",
       "    </tr>\n",
       "    <tr>\n",
       "      <th>1</th>\n",
       "      <td>1995</td>\n",
       "      <td>1994</td>\n",
       "      <td>0</td>\n",
       "      <td>2020-12-16</td>\n",
       "      <td>0</td>\n",
       "      <td>1994</td>\n",
       "      <td>997.500000</td>\n",
       "      <td>NaN</td>\n",
       "    </tr>\n",
       "    <tr>\n",
       "      <th>2</th>\n",
       "      <td>13035</td>\n",
       "      <td>11040</td>\n",
       "      <td>0</td>\n",
       "      <td>2020-12-17</td>\n",
       "      <td>0</td>\n",
       "      <td>11040</td>\n",
       "      <td>4345.000000</td>\n",
       "      <td>NaN</td>\n",
       "    </tr>\n",
       "    <tr>\n",
       "      <th>3</th>\n",
       "      <td>34047</td>\n",
       "      <td>21012</td>\n",
       "      <td>0</td>\n",
       "      <td>2020-12-18</td>\n",
       "      <td>0</td>\n",
       "      <td>21012</td>\n",
       "      <td>8511.750000</td>\n",
       "      <td>NaN</td>\n",
       "    </tr>\n",
       "    <tr>\n",
       "      <th>4</th>\n",
       "      <td>47297</td>\n",
       "      <td>13250</td>\n",
       "      <td>0</td>\n",
       "      <td>2020-12-19</td>\n",
       "      <td>0</td>\n",
       "      <td>13250</td>\n",
       "      <td>9459.400000</td>\n",
       "      <td>NaN</td>\n",
       "    </tr>\n",
       "    <tr>\n",
       "      <th>...</th>\n",
       "      <td>...</td>\n",
       "      <td>...</td>\n",
       "      <td>...</td>\n",
       "      <td>...</td>\n",
       "      <td>...</td>\n",
       "      <td>...</td>\n",
       "      <td>...</td>\n",
       "      <td>...</td>\n",
       "    </tr>\n",
       "    <tr>\n",
       "      <th>78</th>\n",
       "      <td>2993543</td>\n",
       "      <td>93202</td>\n",
       "      <td>952141</td>\n",
       "      <td>2021-03-03</td>\n",
       "      <td>45651</td>\n",
       "      <td>47551</td>\n",
       "      <td>38881.285714</td>\n",
       "      <td>40060.571429</td>\n",
       "    </tr>\n",
       "    <tr>\n",
       "      <th>79</th>\n",
       "      <td>3125425</td>\n",
       "      <td>131882</td>\n",
       "      <td>1019685</td>\n",
       "      <td>2021-03-04</td>\n",
       "      <td>67544</td>\n",
       "      <td>64338</td>\n",
       "      <td>41083.428571</td>\n",
       "      <td>42031.571429</td>\n",
       "    </tr>\n",
       "    <tr>\n",
       "      <th>80</th>\n",
       "      <td>3259664</td>\n",
       "      <td>134239</td>\n",
       "      <td>1085347</td>\n",
       "      <td>2021-03-05</td>\n",
       "      <td>65662</td>\n",
       "      <td>68577</td>\n",
       "      <td>45722.714286</td>\n",
       "      <td>44705.285714</td>\n",
       "    </tr>\n",
       "    <tr>\n",
       "      <th>81</th>\n",
       "      <td>3358214</td>\n",
       "      <td>98550</td>\n",
       "      <td>1136344</td>\n",
       "      <td>2021-03-06</td>\n",
       "      <td>50997</td>\n",
       "      <td>47553</td>\n",
       "      <td>47168.142857</td>\n",
       "      <td>46014.714286</td>\n",
       "    </tr>\n",
       "    <tr>\n",
       "      <th>82</th>\n",
       "      <td>3387778</td>\n",
       "      <td>29564</td>\n",
       "      <td>1152020</td>\n",
       "      <td>2021-03-07</td>\n",
       "      <td>15676</td>\n",
       "      <td>13888</td>\n",
       "      <td>44932.000000</td>\n",
       "      <td>45203.285714</td>\n",
       "    </tr>\n",
       "  </tbody>\n",
       "</table>\n",
       "<p>83 rows × 8 columns</p>\n",
       "</div>"
      ],
      "text/plain": [
       "    total doses to date  daily new doses  total people with two doses  \\\n",
       "0                     1                1                            0   \n",
       "1                  1995             1994                            0   \n",
       "2                 13035            11040                            0   \n",
       "3                 34047            21012                            0   \n",
       "4                 47297            13250                            0   \n",
       "..                  ...              ...                          ...   \n",
       "78              2993543            93202                       952141   \n",
       "79              3125425           131882                      1019685   \n",
       "80              3259664           134239                      1085347   \n",
       "81              3358214            98550                      1136344   \n",
       "82              3387778            29564                      1152020   \n",
       "\n",
       "         date  new second doses  new first doses  \\\n",
       "0  2020-12-15                 0                1   \n",
       "1  2020-12-16                 0             1994   \n",
       "2  2020-12-17                 0            11040   \n",
       "3  2020-12-18                 0            21012   \n",
       "4  2020-12-19                 0            13250   \n",
       "..        ...               ...              ...   \n",
       "78 2021-03-03             45651            47551   \n",
       "79 2021-03-04             67544            64338   \n",
       "80 2021-03-05             65662            68577   \n",
       "81 2021-03-06             50997            47553   \n",
       "82 2021-03-07             15676            13888   \n",
       "\n",
       "    first dose 7 day rolling average  second dose 7 day rolling average  \n",
       "0                           1.000000                                NaN  \n",
       "1                         997.500000                                NaN  \n",
       "2                        4345.000000                                NaN  \n",
       "3                        8511.750000                                NaN  \n",
       "4                        9459.400000                                NaN  \n",
       "..                               ...                                ...  \n",
       "78                      38881.285714                       40060.571429  \n",
       "79                      41083.428571                       42031.571429  \n",
       "80                      45722.714286                       44705.285714  \n",
       "81                      47168.142857                       46014.714286  \n",
       "82                      44932.000000                       45203.285714  \n",
       "\n",
       "[83 rows x 8 columns]"
      ]
     },
     "execution_count": 18,
     "metadata": {},
     "output_type": "execute_result"
    }
   ],
   "source": [
    "data"
   ]
  },
  {
   "cell_type": "code",
   "execution_count": null,
   "metadata": {},
   "outputs": [],
   "source": []
  }
 ],
 "metadata": {
  "kernelspec": {
   "display_name": "Python 3",
   "language": "python",
   "name": "python3"
  },
  "language_info": {
   "codemirror_mode": {
    "name": "ipython",
    "version": 3
   },
   "file_extension": ".py",
   "mimetype": "text/x-python",
   "name": "python",
   "nbconvert_exporter": "python",
   "pygments_lexer": "ipython3",
   "version": "3.8.5"
  }
 },
 "nbformat": 4,
 "nbformat_minor": 4
}
