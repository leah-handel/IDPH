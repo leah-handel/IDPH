{
 "cells": [
  {
   "cell_type": "code",
   "execution_count": 692,
   "metadata": {},
   "outputs": [],
   "source": [
    "import pandas as pd\n",
    "import numpy as np\n",
    "from datetime import datetime\n",
    "from datetime import timedelta\n",
    "import matplotlib.pyplot as plt\n",
    "import math\n",
    "import requests\n",
    "import json\n",
    "import csv"
   ]
  },
  {
   "cell_type": "code",
   "execution_count": 693,
   "metadata": {},
   "outputs": [],
   "source": [
    "#counties_path = \"IL_counties.csv\"\n",
    "#counties = pd.read_csv(counties_path)\n",
    "\n",
    "#county_list = counties[\"County\"].to_list()\n",
    "#county_list.append(\"\")"
   ]
  },
  {
   "cell_type": "code",
   "execution_count": 694,
   "metadata": {},
   "outputs": [
    {
     "name": "stdout",
     "output_type": "stream",
     "text": [
      "County?chicago\n"
     ]
    }
   ],
   "source": [
    "county = input(\"County?\")"
   ]
  },
  {
   "cell_type": "code",
   "execution_count": 695,
   "metadata": {},
   "outputs": [],
   "source": [
    "#if county not in county_list:\n",
    "#    print(\"Please enter a county, or leave blank for statewide data. Chicago is its own entity, entering Cook will return data for suburban Cook County.\")"
   ]
  },
  {
   "cell_type": "code",
   "execution_count": 696,
   "metadata": {},
   "outputs": [],
   "source": [
    "url = f\"https://idph.illinois.gov/DPHPublicInformation/api/COVIDExport/GetVaccineAdministration?countyname={county}\"\n",
    "response = requests.get(url).json()"
   ]
  },
  {
   "cell_type": "code",
   "execution_count": 697,
   "metadata": {},
   "outputs": [],
   "source": [
    "data = pd.DataFrame.from_dict(response)"
   ]
  },
  {
   "cell_type": "code",
   "execution_count": 698,
   "metadata": {},
   "outputs": [],
   "source": [
    "data[\"Report_Date\"] = pd.to_datetime(data[\"Report_Date\"])\n",
    "data = data.astype({'AdministeredCount': 'int64', 'AdministeredCountChange': 'int64', 'PersonsFullyVaccinated': 'int64'})"
   ]
  },
  {
   "cell_type": "code",
   "execution_count": 699,
   "metadata": {},
   "outputs": [],
   "source": [
    "data = data[['AdministeredCount', 'AdministeredCountChange','PersonsFullyVaccinated', 'Report_Date']]\n",
    "\n"
   ]
  },
  {
   "cell_type": "code",
   "execution_count": 700,
   "metadata": {},
   "outputs": [],
   "source": [
    "data = data.rename(columns={'AdministeredCount':'total doses to date',\n",
    "                     'AdministeredCountChange':'daily new doses',\n",
    "                     'PersonsFullyVaccinated':'total people with two doses', \n",
    "                     'Report_Date': \"date\"})"
   ]
  },
  {
   "cell_type": "code",
   "execution_count": 701,
   "metadata": {},
   "outputs": [
    {
     "data": {
      "text/plain": [
       "total doses to date                     int64\n",
       "daily new doses                         int64\n",
       "total people with two doses             int64\n",
       "date                           datetime64[ns]\n",
       "dtype: object"
      ]
     },
     "execution_count": 701,
     "metadata": {},
     "output_type": "execute_result"
    }
   ],
   "source": [
    "data.dtypes"
   ]
  },
  {
   "cell_type": "code",
   "execution_count": 702,
   "metadata": {},
   "outputs": [],
   "source": [
    "# calculating new second doses from change in total people with two doses and new first doses\n",
    "# from total new doses and new second doses\n",
    "\n",
    "for index, row in data.iterrows():\n",
    "    if index == 0:\n",
    "        data.loc[index, \"new second doses\"] = 0\n",
    "    else:\n",
    "        previous = index - 1\n",
    "        data.loc[index, \"new second doses\"] = data.loc[index, \"total people with two doses\"] - data.loc[previous, \"total people with two doses\"]\n",
    "    \n",
    "    data.loc[index, \"new first doses\"] = data.loc[index, \"daily new doses\"] - data.loc[index, \"new second doses\"]\n",
    "    "
   ]
  },
  {
   "cell_type": "code",
   "execution_count": 703,
   "metadata": {},
   "outputs": [],
   "source": [
    "data[\"new second doses\"] = data[\"new second doses\"].astype(\"int64\")\n",
    "data[\"new first doses\"] = data[\"new first doses\"].astype(\"int64\")"
   ]
  },
  {
   "cell_type": "code",
   "execution_count": 704,
   "metadata": {},
   "outputs": [],
   "source": [
    "#rolling averages\n",
    "\n",
    "data[\"first dose 7 day rolling average\"] = data.rolling(window=7, on=\"date\", min_periods=1)[\"new first doses\"].mean()\n",
    "data[\"second dose 7 day rolling average\"] = data.rolling(window=7, on=\"date\")[\"new second doses\"].mean()\n"
   ]
  },
  {
   "cell_type": "code",
   "execution_count": 705,
   "metadata": {},
   "outputs": [],
   "source": [
    "#xticks = every 7 days starting at the first date\n",
    "xticks=[]\n",
    "date_list = data[\"date\"].tolist()\n",
    "x = date_list[0]\n",
    "\n",
    "while x in date_list:\n",
    "    xticks.append(x.strftime('%m/%d'))\n",
    "    x = x+timedelta(days=10)"
   ]
  },
  {
   "cell_type": "code",
   "execution_count": 706,
   "metadata": {},
   "outputs": [],
   "source": [
    "#while x in date_list:\n",
    "   # xticks.append(x.strftime('%m/%d'))\n",
    "   # x = x+timedelta(days=7)"
   ]
  },
  {
   "cell_type": "code",
   "execution_count": 707,
   "metadata": {},
   "outputs": [],
   "source": [
    "#yticks = every 10k, going one past the highest y value\n",
    "max_y = data[[\"new first doses\", \"new second doses\"]].max().max()\n",
    "max_ytick = int(math.ceil(max_y / 10000)) * 10000\n",
    "yticks = np.arange(10000, max_ytick+1, 10000)\n",
    "ytick_labels = [f\"{int(y/1000)}k\" for y in yticks]"
   ]
  },
  {
   "cell_type": "code",
   "execution_count": 708,
   "metadata": {},
   "outputs": [
    {
     "data": {
      "text/plain": [
       "['10k', '20k', '30k']"
      ]
     },
     "execution_count": 708,
     "metadata": {},
     "output_type": "execute_result"
    }
   ],
   "source": [
    "ytick_labels"
   ]
  },
  {
   "cell_type": "code",
   "execution_count": 709,
   "metadata": {},
   "outputs": [],
   "source": [
    "bars1 = data[\"new first doses\"]\n",
    "bars2 = data[\"new second doses\"]\n",
    "\n",
    "barwidth = .5\n",
    "\n",
    "r1 = np.arange(len(bars1))\n",
    "r2 = [x + barwidth for x in r1]\n",
    "#bars2 shifted over by the width of a bar"
   ]
  },
  {
   "cell_type": "code",
   "execution_count": 710,
   "metadata": {},
   "outputs": [],
   "source": [
    "# 2nd dose rolling average shifted over to display above the 2nd dose bars, not display until\n",
    "# it gets above zero\n",
    "\n",
    "r_2ndrolling = np.arange(22.5,len(bars1)+.5)\n",
    "data_2ndrolling = data[\"second dose 7 day rolling average\"].drop(np.arange(22))"
   ]
  },
  {
   "cell_type": "code",
   "execution_count": 711,
   "metadata": {},
   "outputs": [
    {
     "data": {
      "image/png": "[encoded data removed]",
      "text/plain": [
       "<Figure size 864x360 with 1 Axes>"
      ]
     },
     "metadata": {
      "needs_background": "light"
     },
     "output_type": "display_data"
    }
   ],
   "source": [
    "fig = plt.figure(figsize=(12,5))\n",
    "ax = fig.add_subplot(111)\n",
    "\n",
    "plt.grid(True, color = \"#D3D3D3\", axis='y', linewidth = \"1\", linestyle=':')\n",
    "plt.title(f\"{county} Vaccines Administered, 1st & 2nd Doses\")\n",
    "\n",
    "plt.bar(r1, bars1, color='#5CB0FF', width=barwidth, label='daily first doses')\n",
    "plt.bar(r2, bars2, color='#1F93FF', width=barwidth, label='daily second doses')\n",
    "\n",
    "plt.plot(r1, data[\"first dose 7 day rolling average\"], linewidth=2, color='#F6AA1C', label = \"first dose 7 day rolling average\")\n",
    "plt.plot(r_2ndrolling, data_2ndrolling, linewidth=2, color='#F65F28', label = \"second dose 7 day rolling average\")\n",
    "\n",
    "plt.xticks([r*10 + (barwidth/2) for r in range(len(xticks))], xticks)\n",
    "plt.yticks(yticks, ytick_labels)\n",
    "plt.xlim(-.5,max(r1)+1)\n",
    "\n",
    "plt.legend()\n",
    "plt.savefig(\"vaccines.png\")\n",
    "plt.show()"
   ]
  },
  {
   "cell_type": "code",
   "execution_count": 712,
   "metadata": {},
   "outputs": [
    {
     "data": {
      "text/plain": [
       "2259.714285714286"
      ]
     },
     "execution_count": 712,
     "metadata": {},
     "output_type": "execute_result"
    }
   ],
   "source": [
    "data[\"first dose 7 day rolling average\"].iloc[-1]"
   ]
  },
  {
   "cell_type": "code",
   "execution_count": 713,
   "metadata": {},
   "outputs": [
    {
     "data": {
      "text/plain": [
       "2717.5714285714284"
      ]
     },
     "execution_count": 713,
     "metadata": {},
     "output_type": "execute_result"
    }
   ],
   "source": [
    "data[\"second dose 7 day rolling average\"].iloc[-1]"
   ]
  },
  {
   "cell_type": "code",
   "execution_count": null,
   "metadata": {},
   "outputs": [],
   "source": []
  }
 ],
 "metadata": {
  "kernelspec": {
   "display_name": "Python 3",
   "language": "python",
   "name": "python3"
  },
  "language_info": {
   "codemirror_mode": {
    "name": "ipython",
    "version": 3
   },
   "file_extension": ".py",
   "mimetype": "text/x-python",
   "name": "python",
   "nbconvert_exporter": "python",
   "pygments_lexer": "ipython3",
   "version": "3.8.5"
  }
 },
 "nbformat": 4,
 "nbformat_minor": 4
}
